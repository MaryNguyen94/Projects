{
 "cells": [
  {
   "cell_type": "markdown",
   "id": "2bd5ad7d",
   "metadata": {},
   "source": [
    "# Project: Pet Shelter Analysis (Continute)\n",
    "## Clearn data before analyze (See Days 1).\n",
    "## Update and analyze \n",
    "#### Question 1: Count the number of data recorded animals that appear 2 or more times in the dataset?\n",
    "#### Question 2: How many animal had found 2 or more times from 2013-2014 and 2017-2018 in dataset?\n",
    "#### Question 3: About how many animals are spayed/neutered each month?\n",
    "#### Question 4: If spay/neuter for a dog costs 100 and a spay/neuter for a cat costs 50, how much did the shelter spend overtime on these procedures?\n",
    "#### Question 5: What are the adoption rates for the following age groups?\n",
    "<br>baby: 4 months and less\n",
    "<br>young: 5 months - 2 years\n",
    "<br>adult: 3 years - 10 years\n",
    "<br>senior: 11+"
   ]
  },
  {
   "cell_type": "markdown",
   "id": "550418ab",
   "metadata": {},
   "source": [
    "- Import library"
   ]
  },
  {
   "cell_type": "code",
   "execution_count": 216,
   "id": "4f25ee58",
   "metadata": {},
   "outputs": [],
   "source": []
  },
  {
   "cell_type": "markdown",
   "id": "9dcd865b",
   "metadata": {},
   "source": [
    "### Link to see what and how pandas and numpy work\n",
    "https://pandas.pydata.org/pandas-docs/stable/reference/frame.html#\n",
    "<br>https://numpy.org/doc/1.25/reference/index.html#reference"
   ]
  },
  {
   "cell_type": "markdown",
   "id": "0bb44232",
   "metadata": {},
   "source": [
    "## Before analyze"
   ]
  },
  {
   "cell_type": "markdown",
   "id": "3cb5e6b7",
   "metadata": {},
   "source": [
    "- Read file aac_intakes.csv and save in 'intake' dataframe"
   ]
  },
  {
   "cell_type": "code",
   "execution_count": null,
   "id": "fc7b7810",
   "metadata": {
    "scrolled": true
   },
   "outputs": [],
   "source": []
  },
  {
   "cell_type": "markdown",
   "id": "70cf9ff0",
   "metadata": {},
   "source": [
    "- Read file aac_outcomes.csv and save in 'outcome' dataframe"
   ]
  },
  {
   "cell_type": "code",
   "execution_count": null,
   "id": "056a0a1d",
   "metadata": {},
   "outputs": [],
   "source": []
  },
  {
   "cell_type": "markdown",
   "id": "cb653138",
   "metadata": {},
   "source": [
    "- Change data type, remove duplicate rows and rows contain null values (if any)"
   ]
  },
  {
   "cell_type": "code",
   "execution_count": 2,
   "id": "8fade916",
   "metadata": {},
   "outputs": [],
   "source": [
    "# Change data type from object to datetime64"
   ]
  },
  {
   "cell_type": "code",
   "execution_count": 220,
   "id": "9952fd05",
   "metadata": {},
   "outputs": [],
   "source": [
    "# Remove all identical rows in data\n",
    "# Use '.drop_duplicates()'"
   ]
  },
  {
   "cell_type": "code",
   "execution_count": null,
   "id": "7b319fb2",
   "metadata": {},
   "outputs": [],
   "source": [
    "# Check box to show how many rows are there after delete duplicate rows"
   ]
  },
  {
   "cell_type": "code",
   "execution_count": 221,
   "id": "40fd67fc",
   "metadata": {},
   "outputs": [],
   "source": [
    "# Delete all rows contain null values in 'animal_id' and times columns"
   ]
  },
  {
   "cell_type": "code",
   "execution_count": null,
   "id": "974a89a4",
   "metadata": {},
   "outputs": [],
   "source": [
    "# Check box to show how many rows each dataframe after delete null values above\n",
    "# Maybe there are the same"
   ]
  },
  {
   "cell_type": "markdown",
   "id": "102b5550",
   "metadata": {},
   "source": [
    "- Question 1: Count the number of data recorded animals that appear 2 or more times in the dataset?"
   ]
  },
  {
   "cell_type": "code",
   "execution_count": 4,
   "id": "ec053bf5",
   "metadata": {},
   "outputs": [],
   "source": []
  },
  {
   "cell_type": "markdown",
   "id": "acc6d122",
   "metadata": {},
   "source": [
    "- Question 2: How many animal had found 2 or more times from 2013-2014 and 2017-2018 in dataset?"
   ]
  },
  {
   "cell_type": "code",
   "execution_count": 6,
   "id": "15741d57",
   "metadata": {},
   "outputs": [],
   "source": []
  },
  {
   "cell_type": "markdown",
   "id": "da206e1d",
   "metadata": {},
   "source": [
    "- Question 3: About how many animals are spayed/neutered each month?"
   ]
  },
  {
   "cell_type": "code",
   "execution_count": 8,
   "id": "364bd996",
   "metadata": {},
   "outputs": [],
   "source": []
  },
  {
   "cell_type": "markdown",
   "id": "287b3098",
   "metadata": {},
   "source": [
    "- Question 4: If spay/neuter for a dog costs 100 and a spay/neuter for a cat costs 50, how much did the shelter spend overtime on these procedures?"
   ]
  },
  {
   "cell_type": "code",
   "execution_count": 9,
   "id": "c16604c1",
   "metadata": {},
   "outputs": [],
   "source": []
  },
  {
   "cell_type": "markdown",
   "id": "d55c2526",
   "metadata": {},
   "source": [
    "- Question 5: What are the adoption rates for the following age groups?\n",
    "<br>baby: 4 months and less\n",
    "<br>young: 5 months - 2 years\n",
    "<br>adult: 3 years - 10 years\n",
    "<br>senior: 11+"
   ]
  },
  {
   "cell_type": "code",
   "execution_count": 10,
   "id": "0b3c7f52",
   "metadata": {},
   "outputs": [],
   "source": []
  },
  {
   "cell_type": "markdown",
   "id": "283df982",
   "metadata": {},
   "source": [
    "BONUS: HOW TO ADD NEW ROWS RECORD IN DATAFRAME"
   ]
  },
  {
   "cell_type": "code",
   "execution_count": 277,
   "id": "09decc6a",
   "metadata": {},
   "outputs": [
    {
     "data": {
      "text/html": [
       "<div>\n",
       "<style scoped>\n",
       "    .dataframe tbody tr th:only-of-type {\n",
       "        vertical-align: middle;\n",
       "    }\n",
       "\n",
       "    .dataframe tbody tr th {\n",
       "        vertical-align: top;\n",
       "    }\n",
       "\n",
       "    .dataframe thead th {\n",
       "        text-align: right;\n",
       "    }\n",
       "</style>\n",
       "<table border=\"1\" class=\"dataframe\">\n",
       "  <thead>\n",
       "    <tr style=\"text-align: right;\">\n",
       "      <th></th>\n",
       "      <th>Date</th>\n",
       "      <th>Ran_Category</th>\n",
       "      <th>Random_Int_Number</th>\n",
       "      <th>Random_Float_Number</th>\n",
       "    </tr>\n",
       "  </thead>\n",
       "  <tbody>\n",
       "    <tr>\n",
       "      <th>0</th>\n",
       "      <td>2023-01-13</td>\n",
       "      <td>C</td>\n",
       "      <td>26</td>\n",
       "      <td>5.60</td>\n",
       "    </tr>\n",
       "    <tr>\n",
       "      <th>1</th>\n",
       "      <td>2023-08-08</td>\n",
       "      <td>B</td>\n",
       "      <td>74</td>\n",
       "      <td>1.04</td>\n",
       "    </tr>\n",
       "    <tr>\n",
       "      <th>2</th>\n",
       "      <td>2022-04-30</td>\n",
       "      <td>C</td>\n",
       "      <td>1</td>\n",
       "      <td>9.13</td>\n",
       "    </tr>\n",
       "    <tr>\n",
       "      <th>3</th>\n",
       "      <td>2023-05-15</td>\n",
       "      <td>C</td>\n",
       "      <td>86</td>\n",
       "      <td>9.42</td>\n",
       "    </tr>\n",
       "    <tr>\n",
       "      <th>4</th>\n",
       "      <td>2022-02-16</td>\n",
       "      <td>F</td>\n",
       "      <td>90</td>\n",
       "      <td>9.12</td>\n",
       "    </tr>\n",
       "    <tr>\n",
       "      <th>...</th>\n",
       "      <td>...</td>\n",
       "      <td>...</td>\n",
       "      <td>...</td>\n",
       "      <td>...</td>\n",
       "    </tr>\n",
       "    <tr>\n",
       "      <th>95</th>\n",
       "      <td>2023-12-08</td>\n",
       "      <td>C</td>\n",
       "      <td>53</td>\n",
       "      <td>6.28</td>\n",
       "    </tr>\n",
       "    <tr>\n",
       "      <th>96</th>\n",
       "      <td>2023-06-17</td>\n",
       "      <td>B</td>\n",
       "      <td>63</td>\n",
       "      <td>6.82</td>\n",
       "    </tr>\n",
       "    <tr>\n",
       "      <th>97</th>\n",
       "      <td>2022-01-22</td>\n",
       "      <td>B</td>\n",
       "      <td>3</td>\n",
       "      <td>7.95</td>\n",
       "    </tr>\n",
       "    <tr>\n",
       "      <th>98</th>\n",
       "      <td>2023-10-21</td>\n",
       "      <td>E</td>\n",
       "      <td>1</td>\n",
       "      <td>0.20</td>\n",
       "    </tr>\n",
       "    <tr>\n",
       "      <th>99</th>\n",
       "      <td>2022-12-02</td>\n",
       "      <td>E</td>\n",
       "      <td>82</td>\n",
       "      <td>3.46</td>\n",
       "    </tr>\n",
       "  </tbody>\n",
       "</table>\n",
       "<p>100 rows × 4 columns</p>\n",
       "</div>"
      ],
      "text/plain": [
       "         Date Ran_Category  Random_Int_Number  Random_Float_Number\n",
       "0  2023-01-13            C                 26                 5.60\n",
       "1  2023-08-08            B                 74                 1.04\n",
       "2  2022-04-30            C                  1                 9.13\n",
       "3  2023-05-15            C                 86                 9.42\n",
       "4  2022-02-16            F                 90                 9.12\n",
       "..        ...          ...                ...                  ...\n",
       "95 2023-12-08            C                 53                 6.28\n",
       "96 2023-06-17            B                 63                 6.82\n",
       "97 2022-01-22            B                  3                 7.95\n",
       "98 2023-10-21            E                  1                 0.20\n",
       "99 2022-12-02            E                 82                 3.46\n",
       "\n",
       "[100 rows x 4 columns]"
      ]
     },
     "execution_count": 277,
     "metadata": {},
     "output_type": "execute_result"
    }
   ],
   "source": [
    "# Here is a random dataframe\n",
    "ran_date = np.datetime64('2023-01-01', 'D') + np.random.randint(-365,365,size = 100)\n",
    "ran_cate = np.random.choice(['A','B','C','D','E','F'], size = 100)\n",
    "ran_num_int = np.random.randint(100, size = 100)\n",
    "ran_num_float = np.round(np.random.uniform(0.0, 10.0, size = 100), 2)\n",
    "\n",
    "ran_df = pd.DataFrame({\n",
    "    'Date': ran_date,\n",
    "    'Ran_Category': ran_cate,\n",
    "    'Random_Int_Number': ran_num_int,\n",
    "    'Random_Float_Number': ran_num_float})\n",
    "\n",
    "ran_df"
   ]
  },
  {
   "cell_type": "code",
   "execution_count": 278,
   "id": "7d643b52",
   "metadata": {},
   "outputs": [
    {
     "data": {
      "text/html": [
       "<div>\n",
       "<style scoped>\n",
       "    .dataframe tbody tr th:only-of-type {\n",
       "        vertical-align: middle;\n",
       "    }\n",
       "\n",
       "    .dataframe tbody tr th {\n",
       "        vertical-align: top;\n",
       "    }\n",
       "\n",
       "    .dataframe thead th {\n",
       "        text-align: right;\n",
       "    }\n",
       "</style>\n",
       "<table border=\"1\" class=\"dataframe\">\n",
       "  <thead>\n",
       "    <tr style=\"text-align: right;\">\n",
       "      <th></th>\n",
       "      <th>Date</th>\n",
       "      <th>Ran_Category</th>\n",
       "      <th>Random_Int_Number</th>\n",
       "      <th>Random_Float_Number</th>\n",
       "    </tr>\n",
       "  </thead>\n",
       "  <tbody>\n",
       "    <tr>\n",
       "      <th>1</th>\n",
       "      <td>2023-01-13</td>\n",
       "      <td>C</td>\n",
       "      <td>26</td>\n",
       "      <td>5.60</td>\n",
       "    </tr>\n",
       "    <tr>\n",
       "      <th>2</th>\n",
       "      <td>2023-08-08</td>\n",
       "      <td>B</td>\n",
       "      <td>74</td>\n",
       "      <td>1.04</td>\n",
       "    </tr>\n",
       "    <tr>\n",
       "      <th>3</th>\n",
       "      <td>2022-04-30</td>\n",
       "      <td>C</td>\n",
       "      <td>1</td>\n",
       "      <td>9.13</td>\n",
       "    </tr>\n",
       "    <tr>\n",
       "      <th>4</th>\n",
       "      <td>2023-01-01</td>\n",
       "      <td>Alpha</td>\n",
       "      <td>200</td>\n",
       "      <td>0.10</td>\n",
       "    </tr>\n",
       "    <tr>\n",
       "      <th>5</th>\n",
       "      <td>2022-02-16</td>\n",
       "      <td>F</td>\n",
       "      <td>90</td>\n",
       "      <td>9.12</td>\n",
       "    </tr>\n",
       "  </tbody>\n",
       "</table>\n",
       "</div>"
      ],
      "text/plain": [
       "        Date Ran_Category  Random_Int_Number  Random_Float_Number\n",
       "1 2023-01-13            C                 26                 5.60\n",
       "2 2023-08-08            B                 74                 1.04\n",
       "3 2022-04-30            C                  1                 9.13\n",
       "4 2023-01-01        Alpha                200                 0.10\n",
       "5 2022-02-16            F                 90                 9.12"
      ]
     },
     "execution_count": 278,
     "metadata": {},
     "output_type": "execute_result"
    }
   ],
   "source": [
    "ran_df.loc[3] = ['2023-01-01', 'Alpha', 200, 0.1]  # adding a row\n",
    "ran_df.index = ran_df.index + 1  # shifting index\n",
    "ran_df = ran_df.sort_index()  # sorting by index\n",
    "ran_df.head()"
   ]
  },
  {
   "cell_type": "code",
   "execution_count": null,
   "id": "d8ec4bb8",
   "metadata": {},
   "outputs": [],
   "source": [
    "# Change form 'object' type to 'category'\n",
    "ran_df[['Ran_Category']] = ran_df[['Ran_Category']].astype('category')\n",
    "# Did you notice that the dataframe size after running this code is decrease"
   ]
  },
  {
   "cell_type": "code",
   "execution_count": null,
   "id": "eb3d84f6",
   "metadata": {},
   "outputs": [],
   "source": [
    "# Writing a function to custom your analyze\n",
    "\n",
    "# Multiply number function\n",
    "def multiply_by_number(x_number):\n",
    "    return(ran_df.Random_Float_Number * x_number)\n",
    "print('multiply_by_3')\n",
    "print(multiply_by_number(3))\n",
    "print('_______________________________________________________1')\n",
    "print('multiply_by_10')\n",
    "print(multiply_by_number(10))\n",
    "print('_______________________________________________________2')\n",
    "\n",
    "# Calculate function\n",
    "def sum_2columns_function(Random_Int_Number, Random_Float_Number):\n",
    "    return(Random_Int_Number + Random_Float_Number)\n",
    "print('sum_2columns')\n",
    "sum_function(ran_df.Random_Int_Number, ran_df.Random_Float_Number)"
   ]
  }
 ],
 "metadata": {
  "kernelspec": {
   "display_name": "Python 3 (ipykernel)",
   "language": "python",
   "name": "python3"
  },
  "language_info": {
   "codemirror_mode": {
    "name": "ipython",
    "version": 3
   },
   "file_extension": ".py",
   "mimetype": "text/x-python",
   "name": "python",
   "nbconvert_exporter": "python",
   "pygments_lexer": "ipython3",
   "version": "3.10.9"
  }
 },
 "nbformat": 4,
 "nbformat_minor": 5
}
